{
 "cells": [
  {
   "cell_type": "code",
   "execution_count": 201,
   "metadata": {},
   "outputs": [
    {
     "name": "stdout",
     "output_type": "stream",
     "text": [
      "152306059688877178546937602051034186326923521435051796008683776668495932501540983181226413470429951285957678676158444927401030932176125903419424850775906673575648393922300520881171025393368419750265852622353944565373629072078124904199590876179327103627454454616378729582129130004709641881279837154632554964667383830092180135105219692886380347205637655474718388930602231140205729743891480857256642756\n"
     ]
    }
   ],
   "source": [
    "#Задача 1\n",
    "a = \"1234\"*50\n",
    "print(int(a)**2)"
   ]
  },
  {
   "cell_type": "code",
   "execution_count": 202,
   "metadata": {
    "collapsed": true
   },
   "outputs": [],
   "source": [
    "#Задача 2\n",
    "def function_1(n):\n",
    "    import math\n",
    "    spisok = []\n",
    "    for yyy in range(1, (n + 1)):\n",
    "        spisok.append(math.factorial(yyy))\n",
    "    result = sum(spisok)\n",
    "    return result\n",
    "    \n",
    "assert function_1(10) == 4037913\n",
    "assert function_1(5) == 153\n",
    "assert function_1(7) == 5913\n",
    "assert function_1(1) == 1"
   ]
  },
  {
   "cell_type": "code",
   "execution_count": 203,
   "metadata": {},
   "outputs": [],
   "source": [
    "#Задача 3\n",
    "def function_2(list_of_numbers):\n",
    "    list_of_negatives = [item for item in list_of_numbers if item < 0]\n",
    "    if not list_of_negatives:\n",
    "        return None\n",
    "    else:\n",
    "        mean = sum(list_of_negatives) / len(list_of_negatives)\n",
    "        return(mean)\n",
    "    \n",
    "\n",
    "assert function_2([1, 8, -2, 5, -10, -6, 8, -100]) == -29.5\n",
    "assert function_2([67, -10000, 7, 187, -1]) == -5000.5\n",
    "assert function_2([-5, -20, -5]) == -10\n",
    "assert function_2([4, 77, 38, 8]) == None\n"
   ]
  },
  {
   "cell_type": "code",
   "execution_count": 204,
   "metadata": {},
   "outputs": [],
   "source": [
    "#Задача 4\n",
    "def function_3(point_1, point_2):\n",
    "    import math\n",
    "    differences = []\n",
    "    for i1, e1 in enumerate(point_1):\n",
    "        for i2, e2 in enumerate(point_2):\n",
    "            if i1 == i2:\n",
    "                differences.append(e2 - e1)\n",
    "    squares = []\n",
    "    for number in differences:\n",
    "        squares.append(number**2)\n",
    "    distance = math.sqrt(sum(squares))\n",
    "    return distance\n",
    "\n",
    "\n",
    "assert function_3((2, 2), (3, 4)) == math.sqrt(5)\n",
    "assert function_3((0, -1), (-1, 1)) == math.sqrt(5)\n",
    "assert function_3((1, 0), (2, 0)) == 1\n",
    "assert function_3((0, 0), (100, 0)) == 100\n",
    "assert function_3((1, 0, 3, 8, 4), (3, 7, -2, 0, 50)) == math.sqrt(2258)\n",
    "\n",
    "    \n",
    "    "
   ]
  },
  {
   "cell_type": "code",
   "execution_count": 205,
   "metadata": {},
   "outputs": [],
   "source": [
    "# Задача 7\n",
    "\n",
    "def function_6(S, w):\n",
    "    if w not in S:\n",
    "        return -1\n",
    "    if S.count(w) == 1:\n",
    "        return S\n",
    "    else:\n",
    "        first_w = S.find(w)\n",
    "        last_w = S.rfind(w)\n",
    "        middle = S[first_w + 1:last_w]\n",
    "        middle_reversed = middle[::-1]\n",
    "        new_S = S[:first_w + 1] + middle_reversed + S[last_w:]\n",
    "        return new_S\n",
    "    \n",
    "assert function_6('aairaidia', 'i') == 'aaidiaria'\n",
    "assert function_6('privetvet', 'v') == 'privtevet'\n",
    "assert function_6('abcdef', 'z') == -1\n",
    "assert function_6('abcdef', 'c') == 'abcdef'\n",
    "assert function_6('abcdefgefg', 'e') == 'abcdegfefg'\n",
    "    \n",
    "        \n"
   ]
  },
  {
   "cell_type": "code",
   "execution_count": null,
   "metadata": {
    "collapsed": true
   },
   "outputs": [],
   "source": []
  }
 ],
 "metadata": {
  "kernelspec": {
   "display_name": "Python 3",
   "language": "python",
   "name": "python3"
  },
  "language_info": {
   "codemirror_mode": {
    "name": "ipython",
    "version": 3
   },
   "file_extension": ".py",
   "mimetype": "text/x-python",
   "name": "python",
   "nbconvert_exporter": "python",
   "pygments_lexer": "ipython3",
   "version": "3.6.1"
  }
 },
 "nbformat": 4,
 "nbformat_minor": 2
}
